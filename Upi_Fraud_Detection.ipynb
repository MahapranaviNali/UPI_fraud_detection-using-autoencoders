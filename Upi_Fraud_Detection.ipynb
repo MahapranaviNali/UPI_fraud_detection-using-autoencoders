# Upi_Fraud_Detection.ipynb (converted to script format for update)

import pandas as pd
import numpy as np
import matplotlib.pyplot as plt
import seaborn as sns
from sklearn.preprocessing import StandardScaler, LabelEncoder
from sklearn.model_selection import train_test_split
from sklearn.linear_model import LogisticRegression
from sklearn.ensemble import RandomForestClassifier, IsolationForest
from sklearn.metrics import classification_report, accuracy_score, precision_score, recall_score, f1_score
from tensorflow.keras.models import Model
from tensorflow.keras.layers import Input, Dense
from tensorflow.keras import regularizers
import joblib
import pickle

# Load data
df = pd.read_csv("transactions.csv")
df = df.drop(columns=["Transaction ID", "Timestamp", "Sender Name", "Receiver Name"], errors='ignore')

# Encode UPI IDs
le_sender = LabelEncoder()
le_receiver = LabelEncoder()
df['Sender UPI ID'] = le_sender.fit_transform(df['Sender UPI ID'])
df['Receiver UPI ID'] = le_receiver.fit_transform(df['Receiver UPI ID'])

# Encode Status: 0 = SUCCESS (normal), 1 = FAILED (fraud)
df['Status'] = df['Status'].apply(lambda x: 0 if x == 'SUCCESS' else 1)

# Feature Scaling
features = ['Sender UPI ID', 'Receiver UPI ID', 'Amount (INR)']
X = df[features]
y = df['Status']
scaler = StandardScaler()
X_scaled = scaler.fit_transform(X)
joblib.dump(scaler, "scaler.pkl")

# Split data
X_train, X_test, y_train, y_test = train_test_split(X_scaled, y, test_size=0.2, random_state=42)
X_train_normal = X_train[y_train == 0]

# Autoencoder Model
input_dim = X_train.shape[1]
input_layer = Input(shape=(input_dim,))
encoded = Dense(8, activation='relu', activity_regularizer=regularizers.l1(10e-5))(input_layer)
encoded = Dense(4, activation='relu')(encoded)
decoded = Dense(8, activation='relu')(encoded)
decoded = Dense(input_dim, activation='linear')(decoded)

autoencoder = Model(inputs=input_layer, outputs=decoded)
autoencoder.compile(optimizer='adam', loss='mse')
autoencoder.fit(X_train_normal, X_train_normal, epochs=50, batch_size=32, shuffle=True, validation_split=0.2, verbose=0)
autoencoder.save("autoencoder_model.h5")
with open("autoencoder_model.pkl", "wb") as f:
    pickle.dump(autoencoder, f)

# Predictions from Autoencoder
X_test_pred = autoencoder.predict(X_test)
mse = np.mean(np.power(X_test - X_test_pred, 2), axis=1)
threshold = np.percentile(mse, 95)
y_pred_ae = [1 if e > threshold else 0 for e in mse]

# Evaluation of Autoencoder
print("\nAutoencoder Classification Report:")
print(classification_report(y_test, y_pred_ae))

# Plot reconstruction error distribution
plt.figure(figsize=(10,5))
sns.histplot(mse, bins=50, kde=True)
plt.axvline(threshold, color='red', linestyle='--', label=f'Threshold: {threshold:.4f}')
plt.title("Reconstruction Error vs Frequency")
plt.xlabel("Reconstruction Error")
plt.ylabel("Frequency")
plt.legend()
plt.tight_layout()
plt.savefig("reconstruction_error.png")
plt.show()

# Logistic Regression
lr = LogisticRegression()
lr.fit(X_train, y_train)
y_pred_lr = lr.predict(X_test)

# Random Forest
rf = RandomForestClassifier()
rf.fit(X_train, y_train)
y_pred_rf = rf.predict(X_test)

# Isolation Forest
iso_forest = IsolationForest(contamination=0.05, random_state=42)
iso_forest.fit(X_train)
y_pred_iso = iso_forest.predict(X_test)
y_pred_iso = [1 if x == -1 else 0 for x in y_pred_iso]

# Compare Models
models = {
    "Autoencoder": y_pred_ae,
    "Logistic Regression": y_pred_lr,
    "Random Forest": y_pred_rf,
    "Isolation Forest": y_pred_iso
}

results = {}
for name, preds in models.items():
    results[name] = {
        "Accuracy": accuracy_score(y_test, preds),
        "Precision": precision_score(y_test, preds),
        "Recall": recall_score(y_test, preds),
        "F1 Score": f1_score(y_test, preds)
    }

comparison_df = pd.DataFrame(results).T
print("\n🔍 Model Performance Comparison:")
print(comparison_df)

# Plot model comparison
comparison_df.plot(kind='bar', figsize=(10,6))
plt.title("Model Evaluation Metrics Comparison")
plt.ylabel("Score")
plt.ylim(0, 1)
plt.xticks(rotation=45)
plt.grid(True)
plt.tight_layout()
plt.savefig("model_comparison.png")
plt.show()
